{
  "nbformat": 4,
  "nbformat_minor": 0,
  "metadata": {
    "colab": {
      "provenance": [],
      "include_colab_link": true
    },
    "kernelspec": {
      "name": "python3",
      "display_name": "Python 3"
    },
    "language_info": {
      "name": "python"
    }
  },
  "cells": [
    {
      "cell_type": "markdown",
      "metadata": {
        "id": "view-in-github",
        "colab_type": "text"
      },
      "source": [
        "<a href=\"https://colab.research.google.com/github/PetrBonyuk/data_analysis/blob/main/Regression.ipynb\" target=\"_parent\"><img src=\"https://colab.research.google.com/assets/colab-badge.svg\" alt=\"Open In Colab\"/></a>"
      ]
    },
    {
      "cell_type": "markdown",
      "source": [
        "**Задание**\n",
        "\n",
        "Построить уравнение множественной регрессии, объясняющее потери при реакции."
      ],
      "metadata": {
        "id": "muY9fhusum3-"
      }
    },
    {
      "cell_type": "code",
      "execution_count": null,
      "metadata": {
        "colab": {
          "base_uri": "https://localhost:8080/",
          "height": 206
        },
        "id": "tjaO62zboJRG",
        "outputId": "55b15c39-1d23-46c0-b064-f5b80223b40f"
      },
      "outputs": [
        {
          "output_type": "execute_result",
          "data": {
            "text/plain": [
              "   v_воздух  t_воды  c_кислота  потери\n",
              "0        80      27         89      42\n",
              "1        80      27         88      37\n",
              "2        75      25         90      37\n",
              "3        62      24         87      28\n",
              "4        62      22         87      18"
            ],
            "text/html": [
              "\n",
              "  <div id=\"df-1fd82476-21fd-4052-970d-effc966262b8\" class=\"colab-df-container\">\n",
              "    <div>\n",
              "<style scoped>\n",
              "    .dataframe tbody tr th:only-of-type {\n",
              "        vertical-align: middle;\n",
              "    }\n",
              "\n",
              "    .dataframe tbody tr th {\n",
              "        vertical-align: top;\n",
              "    }\n",
              "\n",
              "    .dataframe thead th {\n",
              "        text-align: right;\n",
              "    }\n",
              "</style>\n",
              "<table border=\"1\" class=\"dataframe\">\n",
              "  <thead>\n",
              "    <tr style=\"text-align: right;\">\n",
              "      <th></th>\n",
              "      <th>v_воздух</th>\n",
              "      <th>t_воды</th>\n",
              "      <th>c_кислота</th>\n",
              "      <th>потери</th>\n",
              "    </tr>\n",
              "  </thead>\n",
              "  <tbody>\n",
              "    <tr>\n",
              "      <th>0</th>\n",
              "      <td>80</td>\n",
              "      <td>27</td>\n",
              "      <td>89</td>\n",
              "      <td>42</td>\n",
              "    </tr>\n",
              "    <tr>\n",
              "      <th>1</th>\n",
              "      <td>80</td>\n",
              "      <td>27</td>\n",
              "      <td>88</td>\n",
              "      <td>37</td>\n",
              "    </tr>\n",
              "    <tr>\n",
              "      <th>2</th>\n",
              "      <td>75</td>\n",
              "      <td>25</td>\n",
              "      <td>90</td>\n",
              "      <td>37</td>\n",
              "    </tr>\n",
              "    <tr>\n",
              "      <th>3</th>\n",
              "      <td>62</td>\n",
              "      <td>24</td>\n",
              "      <td>87</td>\n",
              "      <td>28</td>\n",
              "    </tr>\n",
              "    <tr>\n",
              "      <th>4</th>\n",
              "      <td>62</td>\n",
              "      <td>22</td>\n",
              "      <td>87</td>\n",
              "      <td>18</td>\n",
              "    </tr>\n",
              "  </tbody>\n",
              "</table>\n",
              "</div>\n",
              "    <div class=\"colab-df-buttons\">\n",
              "\n",
              "  <div class=\"colab-df-container\">\n",
              "    <button class=\"colab-df-convert\" onclick=\"convertToInteractive('df-1fd82476-21fd-4052-970d-effc966262b8')\"\n",
              "            title=\"Convert this dataframe to an interactive table.\"\n",
              "            style=\"display:none;\">\n",
              "\n",
              "  <svg xmlns=\"http://www.w3.org/2000/svg\" height=\"24px\" viewBox=\"0 -960 960 960\">\n",
              "    <path d=\"M120-120v-720h720v720H120Zm60-500h600v-160H180v160Zm220 220h160v-160H400v160Zm0 220h160v-160H400v160ZM180-400h160v-160H180v160Zm440 0h160v-160H620v160ZM180-180h160v-160H180v160Zm440 0h160v-160H620v160Z\"/>\n",
              "  </svg>\n",
              "    </button>\n",
              "\n",
              "  <style>\n",
              "    .colab-df-container {\n",
              "      display:flex;\n",
              "      gap: 12px;\n",
              "    }\n",
              "\n",
              "    .colab-df-convert {\n",
              "      background-color: #E8F0FE;\n",
              "      border: none;\n",
              "      border-radius: 50%;\n",
              "      cursor: pointer;\n",
              "      display: none;\n",
              "      fill: #1967D2;\n",
              "      height: 32px;\n",
              "      padding: 0 0 0 0;\n",
              "      width: 32px;\n",
              "    }\n",
              "\n",
              "    .colab-df-convert:hover {\n",
              "      background-color: #E2EBFA;\n",
              "      box-shadow: 0px 1px 2px rgba(60, 64, 67, 0.3), 0px 1px 3px 1px rgba(60, 64, 67, 0.15);\n",
              "      fill: #174EA6;\n",
              "    }\n",
              "\n",
              "    .colab-df-buttons div {\n",
              "      margin-bottom: 4px;\n",
              "    }\n",
              "\n",
              "    [theme=dark] .colab-df-convert {\n",
              "      background-color: #3B4455;\n",
              "      fill: #D2E3FC;\n",
              "    }\n",
              "\n",
              "    [theme=dark] .colab-df-convert:hover {\n",
              "      background-color: #434B5C;\n",
              "      box-shadow: 0px 1px 3px 1px rgba(0, 0, 0, 0.15);\n",
              "      filter: drop-shadow(0px 1px 2px rgba(0, 0, 0, 0.3));\n",
              "      fill: #FFFFFF;\n",
              "    }\n",
              "  </style>\n",
              "\n",
              "    <script>\n",
              "      const buttonEl =\n",
              "        document.querySelector('#df-1fd82476-21fd-4052-970d-effc966262b8 button.colab-df-convert');\n",
              "      buttonEl.style.display =\n",
              "        google.colab.kernel.accessAllowed ? 'block' : 'none';\n",
              "\n",
              "      async function convertToInteractive(key) {\n",
              "        const element = document.querySelector('#df-1fd82476-21fd-4052-970d-effc966262b8');\n",
              "        const dataTable =\n",
              "          await google.colab.kernel.invokeFunction('convertToInteractive',\n",
              "                                                    [key], {});\n",
              "        if (!dataTable) return;\n",
              "\n",
              "        const docLinkHtml = 'Like what you see? Visit the ' +\n",
              "          '<a target=\"_blank\" href=https://colab.research.google.com/notebooks/data_table.ipynb>data table notebook</a>'\n",
              "          + ' to learn more about interactive tables.';\n",
              "        element.innerHTML = '';\n",
              "        dataTable['output_type'] = 'display_data';\n",
              "        await google.colab.output.renderOutput(dataTable, element);\n",
              "        const docLink = document.createElement('div');\n",
              "        docLink.innerHTML = docLinkHtml;\n",
              "        element.appendChild(docLink);\n",
              "      }\n",
              "    </script>\n",
              "  </div>\n",
              "\n",
              "\n",
              "<div id=\"df-885e71c2-0b76-4700-9176-e82b9f2de6ed\">\n",
              "  <button class=\"colab-df-quickchart\" onclick=\"quickchart('df-885e71c2-0b76-4700-9176-e82b9f2de6ed')\"\n",
              "            title=\"Suggest charts\"\n",
              "            style=\"display:none;\">\n",
              "\n",
              "<svg xmlns=\"http://www.w3.org/2000/svg\" height=\"24px\"viewBox=\"0 0 24 24\"\n",
              "     width=\"24px\">\n",
              "    <g>\n",
              "        <path d=\"M19 3H5c-1.1 0-2 .9-2 2v14c0 1.1.9 2 2 2h14c1.1 0 2-.9 2-2V5c0-1.1-.9-2-2-2zM9 17H7v-7h2v7zm4 0h-2V7h2v10zm4 0h-2v-4h2v4z\"/>\n",
              "    </g>\n",
              "</svg>\n",
              "  </button>\n",
              "\n",
              "<style>\n",
              "  .colab-df-quickchart {\n",
              "      --bg-color: #E8F0FE;\n",
              "      --fill-color: #1967D2;\n",
              "      --hover-bg-color: #E2EBFA;\n",
              "      --hover-fill-color: #174EA6;\n",
              "      --disabled-fill-color: #AAA;\n",
              "      --disabled-bg-color: #DDD;\n",
              "  }\n",
              "\n",
              "  [theme=dark] .colab-df-quickchart {\n",
              "      --bg-color: #3B4455;\n",
              "      --fill-color: #D2E3FC;\n",
              "      --hover-bg-color: #434B5C;\n",
              "      --hover-fill-color: #FFFFFF;\n",
              "      --disabled-bg-color: #3B4455;\n",
              "      --disabled-fill-color: #666;\n",
              "  }\n",
              "\n",
              "  .colab-df-quickchart {\n",
              "    background-color: var(--bg-color);\n",
              "    border: none;\n",
              "    border-radius: 50%;\n",
              "    cursor: pointer;\n",
              "    display: none;\n",
              "    fill: var(--fill-color);\n",
              "    height: 32px;\n",
              "    padding: 0;\n",
              "    width: 32px;\n",
              "  }\n",
              "\n",
              "  .colab-df-quickchart:hover {\n",
              "    background-color: var(--hover-bg-color);\n",
              "    box-shadow: 0 1px 2px rgba(60, 64, 67, 0.3), 0 1px 3px 1px rgba(60, 64, 67, 0.15);\n",
              "    fill: var(--button-hover-fill-color);\n",
              "  }\n",
              "\n",
              "  .colab-df-quickchart-complete:disabled,\n",
              "  .colab-df-quickchart-complete:disabled:hover {\n",
              "    background-color: var(--disabled-bg-color);\n",
              "    fill: var(--disabled-fill-color);\n",
              "    box-shadow: none;\n",
              "  }\n",
              "\n",
              "  .colab-df-spinner {\n",
              "    border: 2px solid var(--fill-color);\n",
              "    border-color: transparent;\n",
              "    border-bottom-color: var(--fill-color);\n",
              "    animation:\n",
              "      spin 1s steps(1) infinite;\n",
              "  }\n",
              "\n",
              "  @keyframes spin {\n",
              "    0% {\n",
              "      border-color: transparent;\n",
              "      border-bottom-color: var(--fill-color);\n",
              "      border-left-color: var(--fill-color);\n",
              "    }\n",
              "    20% {\n",
              "      border-color: transparent;\n",
              "      border-left-color: var(--fill-color);\n",
              "      border-top-color: var(--fill-color);\n",
              "    }\n",
              "    30% {\n",
              "      border-color: transparent;\n",
              "      border-left-color: var(--fill-color);\n",
              "      border-top-color: var(--fill-color);\n",
              "      border-right-color: var(--fill-color);\n",
              "    }\n",
              "    40% {\n",
              "      border-color: transparent;\n",
              "      border-right-color: var(--fill-color);\n",
              "      border-top-color: var(--fill-color);\n",
              "    }\n",
              "    60% {\n",
              "      border-color: transparent;\n",
              "      border-right-color: var(--fill-color);\n",
              "    }\n",
              "    80% {\n",
              "      border-color: transparent;\n",
              "      border-right-color: var(--fill-color);\n",
              "      border-bottom-color: var(--fill-color);\n",
              "    }\n",
              "    90% {\n",
              "      border-color: transparent;\n",
              "      border-bottom-color: var(--fill-color);\n",
              "    }\n",
              "  }\n",
              "</style>\n",
              "\n",
              "  <script>\n",
              "    async function quickchart(key) {\n",
              "      const quickchartButtonEl =\n",
              "        document.querySelector('#' + key + ' button');\n",
              "      quickchartButtonEl.disabled = true;  // To prevent multiple clicks.\n",
              "      quickchartButtonEl.classList.add('colab-df-spinner');\n",
              "      try {\n",
              "        const charts = await google.colab.kernel.invokeFunction(\n",
              "            'suggestCharts', [key], {});\n",
              "      } catch (error) {\n",
              "        console.error('Error during call to suggestCharts:', error);\n",
              "      }\n",
              "      quickchartButtonEl.classList.remove('colab-df-spinner');\n",
              "      quickchartButtonEl.classList.add('colab-df-quickchart-complete');\n",
              "    }\n",
              "    (() => {\n",
              "      let quickchartButtonEl =\n",
              "        document.querySelector('#df-885e71c2-0b76-4700-9176-e82b9f2de6ed button');\n",
              "      quickchartButtonEl.style.display =\n",
              "        google.colab.kernel.accessAllowed ? 'block' : 'none';\n",
              "    })();\n",
              "  </script>\n",
              "</div>\n",
              "\n",
              "    </div>\n",
              "  </div>\n"
            ],
            "application/vnd.google.colaboratory.intrinsic+json": {
              "type": "dataframe",
              "variable_name": "df",
              "summary": "{\n  \"name\": \"df\",\n  \"rows\": 21,\n  \"fields\": [\n    {\n      \"column\": \"v_\\u0432\\u043e\\u0437\\u0434\\u0443\\u0445\",\n      \"properties\": {\n        \"dtype\": \"number\",\n        \"std\": 9,\n        \"min\": 50,\n        \"max\": 80,\n        \"num_unique_values\": 7,\n        \"samples\": [\n          80,\n          75,\n          56\n        ],\n        \"semantic_type\": \"\",\n        \"description\": \"\"\n      }\n    },\n    {\n      \"column\": \"t_\\u0432\\u043e\\u0434\\u044b\",\n      \"properties\": {\n        \"dtype\": \"number\",\n        \"std\": 3,\n        \"min\": 17,\n        \"max\": 27,\n        \"num_unique_values\": 9,\n        \"samples\": [\n          19,\n          25,\n          18\n        ],\n        \"semantic_type\": \"\",\n        \"description\": \"\"\n      }\n    },\n    {\n      \"column\": \"c_\\u043a\\u0438\\u0441\\u043b\\u043e\\u0442\\u0430\",\n      \"properties\": {\n        \"dtype\": \"number\",\n        \"std\": 5,\n        \"min\": 72,\n        \"max\": 93,\n        \"num_unique_values\": 11,\n        \"samples\": [\n          80,\n          89,\n          79\n        ],\n        \"semantic_type\": \"\",\n        \"description\": \"\"\n      }\n    },\n    {\n      \"column\": \"\\u043f\\u043e\\u0442\\u0435\\u0440\\u0438\",\n      \"properties\": {\n        \"dtype\": \"number\",\n        \"std\": 10,\n        \"min\": 1,\n        \"max\": 42,\n        \"num_unique_values\": 15,\n        \"samples\": [\n          11,\n          8,\n          42\n        ],\n        \"semantic_type\": \"\",\n        \"description\": \"\"\n      }\n    }\n  ]\n}"
            }
          },
          "metadata": {},
          "execution_count": 50
        }
      ],
      "source": [
        "import pandas as pd\n",
        "import numpy as np\n",
        "import matplotlib.pyplot as plt\n",
        "import seaborn as sns\n",
        "from sklearn.model_selection import train_test_split\n",
        "from sklearn.linear_model import LinearRegression\n",
        "from sklearn.metrics import mean_squared_error, mean_absolute_error, r2_score\n",
        "import statsmodels.api as sm\n",
        "\n",
        "# Данные (из задания)\n",
        "data = {\n",
        "    'день': [1, 2, 3, 4, 5, 6, 7, 8, 9, 10, 11, 12, 13, 14, 15, 16, 17, 18, 19, 20, 21],\n",
        "    'v_воздух': [80, 80, 75, 62, 62, 62, 62, 62, 58, 58, 58, 58, 58, 58, 50, 50, 50, 50, 50, 56, 70],\n",
        "    't_воды': [27, 27, 25, 24, 22, 23, 24, 24, 23, 18, 18, 17, 18, 19, 18, 18, 19, 19, 20, 20, 20],\n",
        "    'c_кислота': [89, 88, 90, 87, 87, 87, 93, 93, 87, 80, 89, 88, 82, 93, 89, 86, 72, 79, 80, 82, 91],\n",
        "    'потери': [42, 37, 37, 28, 18, 18, 19, 20, 15, 14, 14, 13, 11, 12, 8, 7, 8, 9, 1, 15, 15]\n",
        "}\n",
        "df = pd.DataFrame(data)\n",
        "df.drop('день', axis=1, inplace=True)\n",
        "df.head()"
      ]
    },
    {
      "cell_type": "markdown",
      "source": [
        "**Метод решения**\n",
        "\n",
        "Для начала исследуем парную корелляцию переменных."
      ],
      "metadata": {
        "id": "JZBhoi6FowxE"
      }
    },
    {
      "cell_type": "code",
      "source": [
        "correlation_matrix = df.corr()\n",
        "\n",
        "plt.figure(figsize=(10, 6))\n",
        "sns.heatmap(correlation_matrix, annot=True, cmap=\"coolwarm\", fmt=\".2f\", vmin=-1, vmax=1)\n",
        "plt.title(\"Матрица корреляций переменных\")\n",
        "plt.show()"
      ],
      "metadata": {
        "colab": {
          "base_uri": "https://localhost:8080/",
          "height": 545
        },
        "id": "8711HTCovUP5",
        "outputId": "12685e63-b096-4521-8dc5-994b4eaade8c"
      },
      "execution_count": null,
      "outputs": [
        {
          "output_type": "display_data",
          "data": {
            "text/plain": [
              "<Figure size 1000x600 with 2 Axes>"
            ],
            "image/png": "[encoded data removed]"
          },
          "metadata": {}
        }
      ]
    },
    {
      "cell_type": "markdown",
      "source": [
        "**Сильно коррелированные признаки:**\n",
        "\n",
        "\n",
        "* v_воздух и потери: 0,92\n",
        "\n",
        "Это сильная положительная корреляция. С увеличением скорости воздуха (v_воздух) потери аммиака (потери) также увеличиваются.\n",
        "\n",
        "* t_воды и потери: 0,85\n",
        "\n",
        "Сильная положительная корреляция. Она указывает на то, что с увеличением температуры охлаждающей воды (t_воды) потери аммиака (потери) также увеличиваются.\n",
        "\n",
        "*  v_воздух и t_воды: 0,78\n",
        "\n",
        "Сильная положительная корреляция. Она указывает на то, что скорость воздуха (v_воздух) и температура воды (t_воды) взаимосвязаны.\n",
        "\n",
        "* c_кислота и потери 0,42\n",
        "\n",
        "Слабая положительная корреляция. Она указывает на то, что с увеличением концентрации азотной кислоты (c_кислота) потери аммиака (потери) немного увеличиваются, но влияние незначительно.\n",
        "\n",
        "* c_кислота и v_воздух 0,50\n",
        "\n",
        "Умеренная положительная корреляция. Она указывает на то, что скорость воздуха (v_воздух) и концентрация азотной кислоты (c_кислота) взаимосвязаны, но не сильно.\n",
        "\n",
        "* c_кислота и t_воды 0,39\n",
        "\n",
        "Это слабая положительная корреляция. Она указывает на то, что температура воды (t_воды) и концентрация азотной кислоты (c_кислота) взаимосвязаны, но незначительно.\n"
      ],
      "metadata": {
        "id": "cgefgWd90YSj"
      }
    },
    {
      "cell_type": "code",
      "source": [
        "\n",
        "#Объясняющие признаки\n",
        "X = df[[\"v_воздух\", \"t_воды\", \"c_кислота\"]]\n",
        "#Объясняемые признаки\n",
        "Y = df[\"потери\"]\n",
        "\n",
        "# Добавляем единичный столбец в X для свободного члена (b0)\n",
        "X = np.hstack((np.ones((X.shape[0], 1)), X))\n"
      ],
      "metadata": {
        "id": "TwNAde-xxvFp"
      },
      "execution_count": null,
      "outputs": []
    },
    {
      "cell_type": "markdown",
      "source": [
        "**Расчет коэффициентов**\n",
        "\n",
        "![image.png](data:image/png;base64,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)"
      ],
      "metadata": {
        "id": "pDnXxGZrx-vb"
      }
    },
    {
      "cell_type": "code",
      "source": [
        "#   b = (X^T X)^(-1) X^T Y\n",
        "XtX_inv = np.linalg.inv(X.T @ X)  # (X^T X)^(-1)\n",
        "XtY = X.T @ Y                    # X^T Y\n",
        "b = XtX_inv @ XtY                # b = (X^T X)^(-1) X^T Y\n",
        "\n",
        "print(\"Коэффициенты регрессии (b):\\n\", b)\n"
      ],
      "metadata": {
        "colab": {
          "base_uri": "https://localhost:8080/"
        },
        "id": "xnd6Q8H0x-g7",
        "outputId": "68314e0f-9ba4-4c30-da69-b1ca72184ffd"
      },
      "execution_count": null,
      "outputs": [
        {
          "output_type": "stream",
          "name": "stdout",
          "text": [
            "Коэффициенты регрессии (b):\n",
            " [-45.52262211   0.78950893   1.12779735  -0.10183553]\n"
          ]
        }
      ]
    },
    {
      "cell_type": "markdown",
      "source": [
        "**Проверка модели**"
      ],
      "metadata": {
        "id": "dGsX9eweyJNN"
      }
    },
    {
      "cell_type": "markdown",
      "source": [
        "![image.png](data:image/png;base64,iVBORw0KGgoAAAANSUhEUgAAAFUAAAAlCAYAAAAz16WbAAAAAXNSR0IArs4c6QAAAARnQU1BAACxjwv8YQUAAAAJcEhZcwAADsMAAA7DAcdvqGQAAATWSURBVGhD7ZpZKL1PGMcfkvxskaIoRbKFCEW5QUm2suTChSWSCxd2kUKUKBRZriSU9UZCXHDlAskuuyh7ZF9j/jOPOa/f+XfwHrzR//9+6u3MfGfmnDnfd2ae5z1oEArIfCua/FXmG5FNlQDZVAmQTZUA2VQJkE2VANlUCfiSqevr6+Dt7Q0BAQFwd3fHVZkvmZqVlYWmbmxsQGVlJVdlPm3q6OgoBAYGQlVVFUxNTcH8/Dzs7e3x1v83n35MPTw8BDMzM14DYG9zdHSkpP0Ex8fHcH5+zmuvGBoagqmpKZafnp5ga2sLywqMjY3BxMSE1154fHyE5eVlmJubA11dXQgPD+ctH8BM/S8xOztLIiIi2EIRLl9fX7K4uMh7EHJ9fU0yMzOF9ujoaLK0tMRbX5iZmSHOzs5Cn7KyMt7yMaJW6unpKdTW1uKdU6CpqQlubm549zo7O3H7M/78+QO5ubmgpaWF9Z+ABU0bGxvY3d3FekFBAZSUlGBZQV9fH0RGRkJDQwMkJiZyVRl2tFHzsUxvFri4uGD5Q9BaEaysrBBqmHDnent7eQsh1GxiZWVFPDw8yMnJCVd/loqKCmGutra25Pn5mbcQsr29TRwcHMjQ0BBXVBMWFobjLSwsuCIOtbZ/VFSUMNG1tTWuEnJxcYGm7uzscOXnobuL0HNQmK/CQDZvd3d3Mj4+jvW3uL+/J/r6+jg2KSmJq+JQy9T6+nphkh0dHVwlJDU1VWnlqgMNbmRyclLUtbCwwEeJIzk5WZgvW3XT09No6L/PT1UMDw8LY7u6ukhNTQ2JjY0ldXV1SqteFWpFf3auuLq6YjktLQ2qq6thcHAQL/qhqKvLyMgINDU18dr7mJubA93WvPYxNDiBk5MTllkMoIZCT08PWFpaovYeGRkZ+P00NDTA398fMwCW3TCKioqgsLAQyypBa0VCUxFCUxO8e15eXmR/f5/QDyS3t7e8x+/Dz89PWHEs4ovFzs4Ox9AUkdCHG0KDH6HBD7WPzli1Uyr6SIpvrK2tTUJCQpRSld9ITk6OYKqRkRG5urriLW+zubkpjCktLeUqIaGhoajRzIYrqlH7icre3h5fHx4eIDg4GBwdHbH+Wdh2ZEeKmEt08s0pLy8HGjyF7X52dgatra1Yfo/+/n5eAqDBmZdA2P4fPuBwc0XDDno2TE9PD7fEV2Hp2OXlpaiLJe1iYIGEbfWUlBQ8sv5Or+gi4L3eJigoCPtaW1tzheB31dHRQT0mJoarqlHL1IODA0IPbnxjFk1/I+wmxcXFkby8PK68pFdsESiMZZH9LVh8UOTjLKtRwDIAxfixsTGuqkYtU5ubm4U3bmxs5OrvgZ2X7JwvLi7myisJCQnC3NlKfIuBgQGhHz0GUGMr39PTE7X4+HjU3kMtU+kZKnzg6uoqV38HLLiwo4me+VxRpr29XZg7uyYmJniLMmx1sna21W9ublCrrKxEjWUSCu09RJlKc0lCn4+VJpVEnzJGR0d5j58lOzubGBgY4LzYNmcm/A2bv4+Pj9L8ac5Luru7eY9XWlpaMJ1iqVRbWxtJT0/HNDI/P190DJH/Q+UN6MrHH9/pTcLMg/30JxbZVAmQ//AnAbKpEiCbKgGyqRIgmyoBsqkSIJsqAbKpEiCb+u0A/ANNBpxbYEJcWwAAAABJRU5ErkJggg==)"
      ],
      "metadata": {
        "id": "gWctU69O4UjM"
      }
    },
    {
      "cell_type": "code",
      "source": [
        "# Оценочные значения Y\n",
        "Y_hat = X @ b\n",
        "print(\"Оценочные значения Y:\", Y_hat)"
      ],
      "metadata": {
        "colab": {
          "base_uri": "https://localhost:8080/"
        },
        "id": "vCe0bPc8yHZl",
        "outputId": "195abca0-8aa8-4aa2-b14e-d65bf69554ee"
      },
      "execution_count": null,
      "outputs": [
        {
          "output_type": "stream",
          "name": "stdout",
          "text": [
            "Оценочные значения Y: [39.02525784 39.12709338 32.72028297 21.63437618 19.37878149 20.50657883\n",
            " 21.02336297 21.02336297 17.34854313 12.42240513 11.50588531 10.4799235\n",
            " 12.21873406 12.22634052  5.1898139   5.4953205   8.04881534  7.3359666\n",
            "  8.36192841 12.8953109  23.03191606]\n"
          ]
        }
      ]
    },
    {
      "cell_type": "markdown",
      "source": [
        "![image.png](data:image/png;base64,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)"
      ],
      "metadata": {
        "id": "Fd5I8cX54h4J"
      }
    },
    {
      "cell_type": "code",
      "source": [
        "# Остатки\n",
        "residuals = Y - Y_hat\n",
        "print(\"\\nОстатки (residuals):\\n\", residuals)\n",
        "\n",
        "# Сумма квадратов остатков\n",
        "S = np.sum(residuals**2)\n",
        "print(\"\\nСумма квадратов остатков (S):\", S)"
      ],
      "metadata": {
        "colab": {
          "base_uri": "https://localhost:8080/"
        },
        "id": "jbLvgfl44Zc_",
        "outputId": "176c097d-1211-4d21-b0e1-b17e4708ee00"
      },
      "execution_count": null,
      "outputs": [
        {
          "output_type": "stream",
          "name": "stdout",
          "text": [
            "\n",
            "Остатки (residuals):\n",
            " 0     2.974742\n",
            "1    -2.127093\n",
            "2     4.279717\n",
            "3     6.365624\n",
            "4    -1.378781\n",
            "5    -2.506579\n",
            "6    -2.023363\n",
            "7    -1.023363\n",
            "8    -2.348543\n",
            "9     1.577595\n",
            "10    2.494115\n",
            "11    2.520077\n",
            "12   -1.218734\n",
            "13   -0.226341\n",
            "14    2.810186\n",
            "15    1.504679\n",
            "16   -0.048815\n",
            "17    1.664033\n",
            "18   -7.361928\n",
            "19    2.104689\n",
            "20   -8.031916\n",
            "Name: потери, dtype: float64\n",
            "\n",
            "Сумма квадратов остатков (S): 243.72038181725708\n"
          ]
        }
      ]
    },
    {
      "cell_type": "markdown",
      "source": [],
      "metadata": {
        "id": "LdMs4dg04ka3"
      }
    },
    {
      "cell_type": "code",
      "source": [
        "\n",
        "\n",
        "print(f\"\\nУравнение регрессии: Потери = {b[0]:.2f} + {b[1]:.2f} * v_воздух + {b[2]:.2f} * t_воды + {b[3]:.2f} * c_кислота\")"
      ],
      "metadata": {
        "colab": {
          "base_uri": "https://localhost:8080/"
        },
        "id": "PP48DeKf4kD5",
        "outputId": "a598e477-7f7f-454f-b6ca-b58afaf0f3af"
      },
      "execution_count": null,
      "outputs": [
        {
          "output_type": "stream",
          "name": "stdout",
          "text": [
            "\n",
            "Уравнение регрессии: Потери = -45.52 + 0.79 * v_воздух + 1.13 * t_воды + -0.10 * c_кислота\n"
          ]
        }
      ]
    }
  ]
}